{
 "cells": [
  {
   "cell_type": "markdown",
   "metadata": {
    "id": "9bDulDgnNbtq"
   },
   "source": [
    "# **Task 1: Prediction Using Supervised ML**\n",
    "\n",
    "## **Author: Naod Mergiya**"
   ]
  },
  {
   "cell_type": "markdown",
   "metadata": {
    "id": "ecMAtUEj_XTc"
   },
   "source": [
    "### **Task Goal: Predict the percentage score of a student based on the number of study hours.**"
   ]
  },
  {
   "cell_type": "code",
   "execution_count": 15,
   "metadata": {
    "id": "x_4RO7XBOTzE"
   },
   "outputs": [],
   "source": [
    "# Importing libraries\n",
    "import pandas as pd\n",
    "import numpy as np\n",
    "import matplotlib.pyplot as plt\n",
    "import seaborn as sns\n",
    "%matplotlib inline\n",
    "\n",
    "# Using ggplot style\n",
    "plt.style.use(\"ggplot\")\n",
    "# Setting width and height of plot\n",
    "plt.rcParams['figure.figsize'] = (7, 5)"
   ]
  },
  {
   "cell_type": "code",
   "execution_count": 2,
   "metadata": {
    "colab": {
     "base_uri": "https://localhost:8080/",
     "height": 224
    },
    "id": "1aJUSZOKPQHS",
    "outputId": "a0eaf615-dd41-4cbb-8e8e-c9a40bca82f8"
   },
   "outputs": [
    {
     "name": "stdout",
     "output_type": "stream",
     "text": [
      "Data imported successfully\n"
     ]
    },
    {
     "data": {
      "text/html": [
       "<div>\n",
       "<style scoped>\n",
       "    .dataframe tbody tr th:only-of-type {\n",
       "        vertical-align: middle;\n",
       "    }\n",
       "\n",
       "    .dataframe tbody tr th {\n",
       "        vertical-align: top;\n",
       "    }\n",
       "\n",
       "    .dataframe thead th {\n",
       "        text-align: right;\n",
       "    }\n",
       "</style>\n",
       "<table border=\"1\" class=\"dataframe\">\n",
       "  <thead>\n",
       "    <tr style=\"text-align: right;\">\n",
       "      <th></th>\n",
       "      <th>Hours</th>\n",
       "      <th>Scores</th>\n",
       "    </tr>\n",
       "  </thead>\n",
       "  <tbody>\n",
       "    <tr>\n",
       "      <th>0</th>\n",
       "      <td>2.5</td>\n",
       "      <td>21</td>\n",
       "    </tr>\n",
       "    <tr>\n",
       "      <th>1</th>\n",
       "      <td>5.1</td>\n",
       "      <td>47</td>\n",
       "    </tr>\n",
       "    <tr>\n",
       "      <th>2</th>\n",
       "      <td>3.2</td>\n",
       "      <td>27</td>\n",
       "    </tr>\n",
       "    <tr>\n",
       "      <th>3</th>\n",
       "      <td>8.5</td>\n",
       "      <td>75</td>\n",
       "    </tr>\n",
       "    <tr>\n",
       "      <th>4</th>\n",
       "      <td>3.5</td>\n",
       "      <td>30</td>\n",
       "    </tr>\n",
       "  </tbody>\n",
       "</table>\n",
       "</div>"
      ],
      "text/plain": [
       "   Hours  Scores\n",
       "0    2.5      21\n",
       "1    5.1      47\n",
       "2    3.2      27\n",
       "3    8.5      75\n",
       "4    3.5      30"
      ]
     },
     "execution_count": 2,
     "metadata": {},
     "output_type": "execute_result"
    }
   ],
   "source": [
    "# Reading the data from a remote link\n",
    "url = 'http://bit.ly/w-data'\n",
    "df = pd.read_csv(url)\n",
    "print('Data imported successfully')\n",
    "\n",
    "# Displaying the first five rows of the dataset\n",
    "df.head()"
   ]
  },
  {
   "cell_type": "markdown",
   "metadata": {
    "id": "pbGsS0r6s-XD"
   },
   "source": [
    "**Initially, I imported the libraries I will use and then set up my plot style and size. Thereafter, I read the data from a remote link before displaying its first five rows.**"
   ]
  },
  {
   "cell_type": "markdown",
   "metadata": {
    "id": "t0kSv0j54K3Y"
   },
   "source": [
    "### **Exploratory Data Analysis**"
   ]
  },
  {
   "cell_type": "code",
   "execution_count": 3,
   "metadata": {
    "colab": {
     "base_uri": "https://localhost:8080/",
     "height": 354
    },
    "id": "zuFpSWyOQMov",
    "outputId": "75906473-e69b-48f1-bb9f-07f05a5f411b"
   },
   "outputs": [
    {
     "data": {
      "image/png": "[encoded data removed]",
      "text/plain": [
       "<Figure size 700x500 with 1 Axes>"
      ]
     },
     "metadata": {},
     "output_type": "display_data"
    }
   ],
   "source": [
    "# Plotting scatterplot of study hours against percentage scores\n",
    "sns.scatterplot(data=df, x='Hours', y='Scores')\n",
    "plt.title('Study Hours vs Percentage Score')\n",
    "plt.xlabel('Study Hours')\n",
    "plt.ylabel('Percentage Score');"
   ]
  },
  {
   "cell_type": "markdown",
   "metadata": {
    "id": "8ngT6frKpqnW"
   },
   "source": [
    "**I did an exploratory data analysis on the data and from the above plot, it can be seen that there is a positive linear correlation between the study hours and the percentage score.**"
   ]
  },
  {
   "cell_type": "markdown",
   "metadata": {
    "id": "e3kufCcV5Pr1"
   },
   "source": [
    "### **Preparing the data**"
   ]
  },
  {
   "cell_type": "code",
   "execution_count": 4,
   "metadata": {
    "colab": {
     "base_uri": "https://localhost:8080/"
    },
    "id": "wBjx_JH0WOx2",
    "outputId": "dadeee05-c158-42c4-b004-00ab21495d2e"
   },
   "outputs": [
    {
     "data": {
      "text/plain": [
       "array([[2.5],\n",
       "       [5.1],\n",
       "       [3.2],\n",
       "       [8.5],\n",
       "       [3.5]])"
      ]
     },
     "execution_count": 4,
     "metadata": {},
     "output_type": "execute_result"
    }
   ],
   "source": [
    "# Extracting the Hours feature\n",
    "X = df.iloc[:, :-1].values   \n",
    "\n",
    "# displaying the first five rows\n",
    "X[:5]"
   ]
  },
  {
   "cell_type": "code",
   "execution_count": 5,
   "metadata": {
    "id": "TJ_M6rD-1Pro"
   },
   "outputs": [],
   "source": [
    " # Extracting the target variable Scores\n",
    "y = df.iloc[:, 1].values"
   ]
  },
  {
   "cell_type": "code",
   "execution_count": 6,
   "metadata": {
    "id": "hOUv53v72AHm"
   },
   "outputs": [],
   "source": [
    "# Splitting Dataset into Train & Test Set\n",
    "from sklearn.model_selection import train_test_split\n",
    "X_train, X_test, y_train, y_test = train_test_split(X, y,\n",
    "                        train_size = 0.8, random_state=0)"
   ]
  },
  {
   "cell_type": "code",
   "execution_count": 7,
   "metadata": {
    "colab": {
     "base_uri": "https://localhost:8080/"
    },
    "id": "jCmORa1X2vaO",
    "outputId": "21507706-7a66-4a93-9d58-3b57898199de"
   },
   "outputs": [
    {
     "name": "stdout",
     "output_type": "stream",
     "text": [
      "(20, 1)\n",
      "(5, 1)\n"
     ]
    }
   ],
   "source": [
    "# Checking the shape of the training set and test set\n",
    "print(X_train.shape)\n",
    "print(X_test.shape)"
   ]
  },
  {
   "cell_type": "markdown",
   "metadata": {
    "id": "jAWceXETrOeH"
   },
   "source": [
    "**First, I divided the data into input (attributes) and output (labels). Then, I splitted the data into train and test sets, after which I checked the shape of my train and test sets.**"
   ]
  },
  {
   "cell_type": "markdown",
   "metadata": {
    "id": "eVYaeEp73rTG"
   },
   "source": [
    "### **Model Training**"
   ]
  },
  {
   "cell_type": "code",
   "execution_count": 8,
   "metadata": {
    "colab": {
     "base_uri": "https://localhost:8080/"
    },
    "id": "HPDj38h03PQX",
    "outputId": "2150a881-41d7-4ac7-93fa-32989bc9cff8"
   },
   "outputs": [
    {
     "data": {
      "text/plain": [
       "LinearRegression()"
      ]
     },
     "execution_count": 8,
     "metadata": {},
     "output_type": "execute_result"
    }
   ],
   "source": [
    "# Training the model\n",
    "from sklearn.linear_model import LinearRegression\n",
    "linreg = LinearRegression()\n",
    "linreg.fit(X_train.reshape(-1, 1), y_train)"
   ]
  },
  {
   "cell_type": "code",
   "execution_count": 9,
   "metadata": {
    "colab": {
     "base_uri": "https://localhost:8080/"
    },
    "id": "3Aqr3J0S5rus",
    "outputId": "6973b056-0127-40a1-b694-52122e993e85"
   },
   "outputs": [
    {
     "name": "stdout",
     "output_type": "stream",
     "text": [
      "[9.91065648]\n",
      "2.018160041434683\n"
     ]
    }
   ],
   "source": [
    "# Interpreting Model Coefficients\n",
    "print(linreg.coef_) # model coefficient value\n",
    "print(linreg.intercept_) # model intercept value"
   ]
  },
  {
   "cell_type": "markdown",
   "metadata": {
    "id": "Wd0XOy-_0MvI"
   },
   "source": [
    "**I trained the model with linear regression algorithm and thereafter interpreted the model coefficients before making predictions.**"
   ]
  },
  {
   "cell_type": "markdown",
   "metadata": {
    "id": "T48t3OyfLO1j"
   },
   "source": [
    "### **Making Predictions**"
   ]
  },
  {
   "cell_type": "code",
   "execution_count": 10,
   "metadata": {
    "colab": {
     "base_uri": "https://localhost:8080/"
    },
    "id": "syyKuHR98d3y",
    "outputId": "daa620c4-6ce6-42ec-a77d-e166a78a0f0f"
   },
   "outputs": [
    {
     "name": "stdout",
     "output_type": "stream",
     "text": [
      "[[1.5]\n",
      " [3.2]\n",
      " [7.4]\n",
      " [2.5]\n",
      " [5.9]]\n"
     ]
    }
   ],
   "source": [
    "# Making Predictions with Model\n",
    "y_pred = linreg.predict(X_test)\n",
    "print(X_test) "
   ]
  },
  {
   "cell_type": "code",
   "execution_count": 11,
   "metadata": {
    "colab": {
     "base_uri": "https://localhost:8080/",
     "height": 206
    },
    "id": "fd57-qfk3cLG",
    "outputId": "720f0965-2357-4a13-9904-9d1a6420e735"
   },
   "outputs": [
    {
     "data": {
      "text/html": [
       "<div>\n",
       "<style scoped>\n",
       "    .dataframe tbody tr th:only-of-type {\n",
       "        vertical-align: middle;\n",
       "    }\n",
       "\n",
       "    .dataframe tbody tr th {\n",
       "        vertical-align: top;\n",
       "    }\n",
       "\n",
       "    .dataframe thead th {\n",
       "        text-align: right;\n",
       "    }\n",
       "</style>\n",
       "<table border=\"1\" class=\"dataframe\">\n",
       "  <thead>\n",
       "    <tr style=\"text-align: right;\">\n",
       "      <th></th>\n",
       "      <th>Real</th>\n",
       "      <th>Predicted</th>\n",
       "    </tr>\n",
       "  </thead>\n",
       "  <tbody>\n",
       "    <tr>\n",
       "      <th>0</th>\n",
       "      <td>20</td>\n",
       "      <td>16.884145</td>\n",
       "    </tr>\n",
       "    <tr>\n",
       "      <th>1</th>\n",
       "      <td>27</td>\n",
       "      <td>33.732261</td>\n",
       "    </tr>\n",
       "    <tr>\n",
       "      <th>2</th>\n",
       "      <td>69</td>\n",
       "      <td>75.357018</td>\n",
       "    </tr>\n",
       "    <tr>\n",
       "      <th>3</th>\n",
       "      <td>30</td>\n",
       "      <td>26.794801</td>\n",
       "    </tr>\n",
       "    <tr>\n",
       "      <th>4</th>\n",
       "      <td>62</td>\n",
       "      <td>60.491033</td>\n",
       "    </tr>\n",
       "  </tbody>\n",
       "</table>\n",
       "</div>"
      ],
      "text/plain": [
       "   Real  Predicted\n",
       "0    20  16.884145\n",
       "1    27  33.732261\n",
       "2    69  75.357018\n",
       "3    30  26.794801\n",
       "4    62  60.491033"
      ]
     },
     "execution_count": 11,
     "metadata": {},
     "output_type": "execute_result"
    }
   ],
   "source": [
    "# Comparing the Real Score and the Predicted Score\n",
    "df = pd.DataFrame({'Real':y_test, 'Predicted':y_pred})\n",
    "df"
   ]
  },
  {
   "cell_type": "code",
   "execution_count": 12,
   "metadata": {
    "colab": {
     "base_uri": "https://localhost:8080/"
    },
    "id": "i5H7wv15_b2-",
    "outputId": "b519584b-174a-4b75-bc59-6bbd1021dfb7"
   },
   "outputs": [
    {
     "name": "stdout",
     "output_type": "stream",
     "text": [
      "Hours spent studying: 9.25\n",
      "Predicted Score: 93.69173248737538\n"
     ]
    }
   ],
   "source": [
    "# Predicting the score of a student that studies for 9.25 hours\n",
    "study_time = 9.25\n",
    "my_pred = linreg.predict([[9.25]])\n",
    "print(\"Hours spent studying: \" + str(study_time))\n",
    "print(\"Predicted Score: \" + str(my_pred[0]))"
   ]
  },
  {
   "cell_type": "markdown",
   "metadata": {
    "id": "IG-OXCZ42u2y"
   },
   "source": [
    "**After training the model, I compared the real score of the students with their predicted score and then predicted the score if a student studies for 9.25 hours per day.**"
   ]
  },
  {
   "cell_type": "markdown",
   "metadata": {
    "id": "cLiyVq5s-4CH"
   },
   "source": [
    "### **Model Evaluation**"
   ]
  },
  {
   "cell_type": "code",
   "execution_count": 13,
   "metadata": {
    "colab": {
     "base_uri": "https://localhost:8080/"
    },
    "id": "il39ZOaK-wbL",
    "outputId": "8605e2ea-3200-49d4-d4e9-78448d4ccec1"
   },
   "outputs": [
    {
     "name": "stdout",
     "output_type": "stream",
     "text": [
      "Mean Absolute Error: 4.183859899002975\n",
      "Mean Squared Error: 21.5987693072174\n",
      "Root Mean Squared Error: 4.6474476121003665\n"
     ]
    }
   ],
   "source": [
    "# Model Evaluation\n",
    "from sklearn import metrics\n",
    "\n",
    "# Mean Absolute Error\n",
    "print('Mean Absolute Error: ' + str((metrics.mean_absolute_error(y_test, y_pred))))\n",
    "\n",
    "# Mean Squared Error\n",
    "print('Mean Squared Error: ' + str((metrics.mean_squared_error(y_test, y_pred))))\n",
    "\n",
    "# Root Mean Squared Error\n",
    "print('Root Mean Squared Error: ' + str((np.sqrt(metrics.mean_squared_error(y_test, y_pred)))))"
   ]
  },
  {
   "cell_type": "markdown",
   "metadata": {
    "id": "XXlBW2H466IK"
   },
   "source": [
    "**Evaluation of the algorithm's performance is the last phase. This stage is crucial for evaluating how effective various algorithms operate on a certain dataset. I chose the mean absolute error, mean squared error and root mean squared error as the metrics for the model evaluation.**"
   ]
  }
 ],
 "metadata": {
  "colab": {
   "provenance": []
  },
  "kernelspec": {
   "display_name": "Python 3.9.13 ('base')",
   "language": "python",
   "name": "python3"
  },
  "language_info": {
   "codemirror_mode": {
    "name": "ipython",
    "version": 3
   },
   "file_extension": ".py",
   "mimetype": "text/x-python",
   "name": "python",
   "nbconvert_exporter": "python",
   "pygments_lexer": "ipython3",
   "version": "3.9.13"
  },
  "vscode": {
   "interpreter": {
    "hash": "1fc8c66ccd0deef7140eea1560443959d27201b3ed7bf00ce47f0059c60b68bb"
   }
  }
 },
 "nbformat": 4,
 "nbformat_minor": 1
}
